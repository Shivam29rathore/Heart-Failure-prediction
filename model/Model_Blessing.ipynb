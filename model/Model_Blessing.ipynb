{
 "cells": [
  {
   "cell_type": "code",
   "execution_count": 1,
   "metadata": {},
   "outputs": [
    {
     "name": "stderr",
     "output_type": "stream",
     "text": [
      "C:\\Users\\Egharevba Blessing\\Anaconda3\\lib\\site-packages\\statsmodels\\tools\\_testing.py:19: FutureWarning: pandas.util.testing is deprecated. Use the functions in the public API at pandas.testing instead.\n",
      "  import pandas.util.testing as tm\n"
     ]
    }
   ],
   "source": [
    "import numpy as np\n",
    "import pandas as pd\n",
    "import matplotlib.pyplot as plt\n",
    "import seaborn as sns\n",
    "import warnings\n",
    "warnings.simplefilter(\"ignore\")\n",
    "%matplotlib inline"
   ]
  },
  {
   "cell_type": "code",
   "execution_count": 2,
   "metadata": {},
   "outputs": [],
   "source": [
    "from collections import Counter\n",
    "from sklearn.metrics import classification_report\n",
    "from sklearn.metrics import confusion_matrix"
   ]
  },
  {
   "cell_type": "code",
   "execution_count": 3,
   "metadata": {},
   "outputs": [],
   "source": [
    "pd.options.display.max_columns = 60"
   ]
  },
  {
   "cell_type": "code",
   "execution_count": 4,
   "metadata": {},
   "outputs": [],
   "source": [
    "df = pd.read_csv(\"heart_failure_clinical_records_dataset.csv.xls\")"
   ]
  },
  {
   "cell_type": "code",
   "execution_count": 5,
   "metadata": {
    "scrolled": false
   },
   "outputs": [
    {
     "data": {
      "text/html": [
       "<div>\n",
       "<style scoped>\n",
       "    .dataframe tbody tr th:only-of-type {\n",
       "        vertical-align: middle;\n",
       "    }\n",
       "\n",
       "    .dataframe tbody tr th {\n",
       "        vertical-align: top;\n",
       "    }\n",
       "\n",
       "    .dataframe thead th {\n",
       "        text-align: right;\n",
       "    }\n",
       "</style>\n",
       "<table border=\"1\" class=\"dataframe\">\n",
       "  <thead>\n",
       "    <tr style=\"text-align: right;\">\n",
       "      <th></th>\n",
       "      <th>age</th>\n",
       "      <th>anaemia</th>\n",
       "      <th>creatinine_phosphokinase</th>\n",
       "      <th>diabetes</th>\n",
       "      <th>ejection_fraction</th>\n",
       "      <th>high_blood_pressure</th>\n",
       "      <th>platelets</th>\n",
       "      <th>serum_creatinine</th>\n",
       "      <th>serum_sodium</th>\n",
       "      <th>sex</th>\n",
       "      <th>smoking</th>\n",
       "      <th>time</th>\n",
       "      <th>DEATH_EVENT</th>\n",
       "    </tr>\n",
       "  </thead>\n",
       "  <tbody>\n",
       "    <tr>\n",
       "      <th>0</th>\n",
       "      <td>75.0</td>\n",
       "      <td>0</td>\n",
       "      <td>582</td>\n",
       "      <td>0</td>\n",
       "      <td>20</td>\n",
       "      <td>1</td>\n",
       "      <td>265000.00</td>\n",
       "      <td>1.9</td>\n",
       "      <td>130</td>\n",
       "      <td>1</td>\n",
       "      <td>0</td>\n",
       "      <td>4</td>\n",
       "      <td>1</td>\n",
       "    </tr>\n",
       "    <tr>\n",
       "      <th>1</th>\n",
       "      <td>55.0</td>\n",
       "      <td>0</td>\n",
       "      <td>7861</td>\n",
       "      <td>0</td>\n",
       "      <td>38</td>\n",
       "      <td>0</td>\n",
       "      <td>263358.03</td>\n",
       "      <td>1.1</td>\n",
       "      <td>136</td>\n",
       "      <td>1</td>\n",
       "      <td>0</td>\n",
       "      <td>6</td>\n",
       "      <td>1</td>\n",
       "    </tr>\n",
       "    <tr>\n",
       "      <th>2</th>\n",
       "      <td>65.0</td>\n",
       "      <td>0</td>\n",
       "      <td>146</td>\n",
       "      <td>0</td>\n",
       "      <td>20</td>\n",
       "      <td>0</td>\n",
       "      <td>162000.00</td>\n",
       "      <td>1.3</td>\n",
       "      <td>129</td>\n",
       "      <td>1</td>\n",
       "      <td>1</td>\n",
       "      <td>7</td>\n",
       "      <td>1</td>\n",
       "    </tr>\n",
       "    <tr>\n",
       "      <th>3</th>\n",
       "      <td>50.0</td>\n",
       "      <td>1</td>\n",
       "      <td>111</td>\n",
       "      <td>0</td>\n",
       "      <td>20</td>\n",
       "      <td>0</td>\n",
       "      <td>210000.00</td>\n",
       "      <td>1.9</td>\n",
       "      <td>137</td>\n",
       "      <td>1</td>\n",
       "      <td>0</td>\n",
       "      <td>7</td>\n",
       "      <td>1</td>\n",
       "    </tr>\n",
       "    <tr>\n",
       "      <th>4</th>\n",
       "      <td>65.0</td>\n",
       "      <td>1</td>\n",
       "      <td>160</td>\n",
       "      <td>1</td>\n",
       "      <td>20</td>\n",
       "      <td>0</td>\n",
       "      <td>327000.00</td>\n",
       "      <td>2.7</td>\n",
       "      <td>116</td>\n",
       "      <td>0</td>\n",
       "      <td>0</td>\n",
       "      <td>8</td>\n",
       "      <td>1</td>\n",
       "    </tr>\n",
       "  </tbody>\n",
       "</table>\n",
       "</div>"
      ],
      "text/plain": [
       "    age  anaemia  creatinine_phosphokinase  diabetes  ejection_fraction  \\\n",
       "0  75.0        0                       582         0                 20   \n",
       "1  55.0        0                      7861         0                 38   \n",
       "2  65.0        0                       146         0                 20   \n",
       "3  50.0        1                       111         0                 20   \n",
       "4  65.0        1                       160         1                 20   \n",
       "\n",
       "   high_blood_pressure  platelets  serum_creatinine  serum_sodium  sex  \\\n",
       "0                    1  265000.00               1.9           130    1   \n",
       "1                    0  263358.03               1.1           136    1   \n",
       "2                    0  162000.00               1.3           129    1   \n",
       "3                    0  210000.00               1.9           137    1   \n",
       "4                    0  327000.00               2.7           116    0   \n",
       "\n",
       "   smoking  time  DEATH_EVENT  \n",
       "0        0     4            1  \n",
       "1        0     6            1  \n",
       "2        1     7            1  \n",
       "3        0     7            1  \n",
       "4        0     8            1  "
      ]
     },
     "execution_count": 5,
     "metadata": {},
     "output_type": "execute_result"
    }
   ],
   "source": [
    "df.head()"
   ]
  },
  {
   "cell_type": "code",
   "execution_count": 6,
   "metadata": {},
   "outputs": [
    {
     "name": "stdout",
     "output_type": "stream",
     "text": [
      "<class 'pandas.core.frame.DataFrame'>\n",
      "RangeIndex: 299 entries, 0 to 298\n",
      "Data columns (total 13 columns):\n",
      " #   Column                    Non-Null Count  Dtype  \n",
      "---  ------                    --------------  -----  \n",
      " 0   age                       299 non-null    float64\n",
      " 1   anaemia                   299 non-null    int64  \n",
      " 2   creatinine_phosphokinase  299 non-null    int64  \n",
      " 3   diabetes                  299 non-null    int64  \n",
      " 4   ejection_fraction         299 non-null    int64  \n",
      " 5   high_blood_pressure       299 non-null    int64  \n",
      " 6   platelets                 299 non-null    float64\n",
      " 7   serum_creatinine          299 non-null    float64\n",
      " 8   serum_sodium              299 non-null    int64  \n",
      " 9   sex                       299 non-null    int64  \n",
      " 10  smoking                   299 non-null    int64  \n",
      " 11  time                      299 non-null    int64  \n",
      " 12  DEATH_EVENT               299 non-null    int64  \n",
      "dtypes: float64(3), int64(10)\n",
      "memory usage: 30.5 KB\n"
     ]
    }
   ],
   "source": [
    "df.info()"
   ]
  },
  {
   "cell_type": "code",
   "execution_count": 7,
   "metadata": {
    "scrolled": false
   },
   "outputs": [
    {
     "data": {
      "text/html": [
       "<div>\n",
       "<style scoped>\n",
       "    .dataframe tbody tr th:only-of-type {\n",
       "        vertical-align: middle;\n",
       "    }\n",
       "\n",
       "    .dataframe tbody tr th {\n",
       "        vertical-align: top;\n",
       "    }\n",
       "\n",
       "    .dataframe thead th {\n",
       "        text-align: right;\n",
       "    }\n",
       "</style>\n",
       "<table border=\"1\" class=\"dataframe\">\n",
       "  <thead>\n",
       "    <tr style=\"text-align: right;\">\n",
       "      <th></th>\n",
       "      <th>age</th>\n",
       "      <th>anaemia</th>\n",
       "      <th>creatinine_phosphokinase</th>\n",
       "      <th>diabetes</th>\n",
       "      <th>ejection_fraction</th>\n",
       "      <th>high_blood_pressure</th>\n",
       "      <th>platelets</th>\n",
       "      <th>serum_creatinine</th>\n",
       "      <th>serum_sodium</th>\n",
       "      <th>sex</th>\n",
       "      <th>smoking</th>\n",
       "      <th>time</th>\n",
       "      <th>DEATH_EVENT</th>\n",
       "    </tr>\n",
       "  </thead>\n",
       "  <tbody>\n",
       "    <tr>\n",
       "      <th>age</th>\n",
       "      <td>1.000000</td>\n",
       "      <td>0.088006</td>\n",
       "      <td>-0.081584</td>\n",
       "      <td>-0.101012</td>\n",
       "      <td>0.060098</td>\n",
       "      <td>0.093289</td>\n",
       "      <td>-0.052354</td>\n",
       "      <td>0.159187</td>\n",
       "      <td>-0.045966</td>\n",
       "      <td>0.065430</td>\n",
       "      <td>0.018668</td>\n",
       "      <td>-0.224068</td>\n",
       "      <td>0.253729</td>\n",
       "    </tr>\n",
       "    <tr>\n",
       "      <th>anaemia</th>\n",
       "      <td>0.088006</td>\n",
       "      <td>1.000000</td>\n",
       "      <td>-0.190741</td>\n",
       "      <td>-0.012729</td>\n",
       "      <td>0.031557</td>\n",
       "      <td>0.038182</td>\n",
       "      <td>-0.043786</td>\n",
       "      <td>0.052174</td>\n",
       "      <td>0.041882</td>\n",
       "      <td>-0.094769</td>\n",
       "      <td>-0.107290</td>\n",
       "      <td>-0.141414</td>\n",
       "      <td>0.066270</td>\n",
       "    </tr>\n",
       "    <tr>\n",
       "      <th>creatinine_phosphokinase</th>\n",
       "      <td>-0.081584</td>\n",
       "      <td>-0.190741</td>\n",
       "      <td>1.000000</td>\n",
       "      <td>-0.009639</td>\n",
       "      <td>-0.044080</td>\n",
       "      <td>-0.070590</td>\n",
       "      <td>0.024463</td>\n",
       "      <td>-0.016408</td>\n",
       "      <td>0.059550</td>\n",
       "      <td>0.079791</td>\n",
       "      <td>0.002421</td>\n",
       "      <td>-0.009346</td>\n",
       "      <td>0.062728</td>\n",
       "    </tr>\n",
       "    <tr>\n",
       "      <th>diabetes</th>\n",
       "      <td>-0.101012</td>\n",
       "      <td>-0.012729</td>\n",
       "      <td>-0.009639</td>\n",
       "      <td>1.000000</td>\n",
       "      <td>-0.004850</td>\n",
       "      <td>-0.012732</td>\n",
       "      <td>0.092193</td>\n",
       "      <td>-0.046975</td>\n",
       "      <td>-0.089551</td>\n",
       "      <td>-0.157730</td>\n",
       "      <td>-0.147173</td>\n",
       "      <td>0.033726</td>\n",
       "      <td>-0.001943</td>\n",
       "    </tr>\n",
       "    <tr>\n",
       "      <th>ejection_fraction</th>\n",
       "      <td>0.060098</td>\n",
       "      <td>0.031557</td>\n",
       "      <td>-0.044080</td>\n",
       "      <td>-0.004850</td>\n",
       "      <td>1.000000</td>\n",
       "      <td>0.024445</td>\n",
       "      <td>0.072177</td>\n",
       "      <td>-0.011302</td>\n",
       "      <td>0.175902</td>\n",
       "      <td>-0.148386</td>\n",
       "      <td>-0.067315</td>\n",
       "      <td>0.041729</td>\n",
       "      <td>-0.268603</td>\n",
       "    </tr>\n",
       "    <tr>\n",
       "      <th>high_blood_pressure</th>\n",
       "      <td>0.093289</td>\n",
       "      <td>0.038182</td>\n",
       "      <td>-0.070590</td>\n",
       "      <td>-0.012732</td>\n",
       "      <td>0.024445</td>\n",
       "      <td>1.000000</td>\n",
       "      <td>0.049963</td>\n",
       "      <td>-0.004935</td>\n",
       "      <td>0.037109</td>\n",
       "      <td>-0.104615</td>\n",
       "      <td>-0.055711</td>\n",
       "      <td>-0.196439</td>\n",
       "      <td>0.079351</td>\n",
       "    </tr>\n",
       "    <tr>\n",
       "      <th>platelets</th>\n",
       "      <td>-0.052354</td>\n",
       "      <td>-0.043786</td>\n",
       "      <td>0.024463</td>\n",
       "      <td>0.092193</td>\n",
       "      <td>0.072177</td>\n",
       "      <td>0.049963</td>\n",
       "      <td>1.000000</td>\n",
       "      <td>-0.041198</td>\n",
       "      <td>0.062125</td>\n",
       "      <td>-0.125120</td>\n",
       "      <td>0.028234</td>\n",
       "      <td>0.010514</td>\n",
       "      <td>-0.049139</td>\n",
       "    </tr>\n",
       "    <tr>\n",
       "      <th>serum_creatinine</th>\n",
       "      <td>0.159187</td>\n",
       "      <td>0.052174</td>\n",
       "      <td>-0.016408</td>\n",
       "      <td>-0.046975</td>\n",
       "      <td>-0.011302</td>\n",
       "      <td>-0.004935</td>\n",
       "      <td>-0.041198</td>\n",
       "      <td>1.000000</td>\n",
       "      <td>-0.189095</td>\n",
       "      <td>0.006970</td>\n",
       "      <td>-0.027414</td>\n",
       "      <td>-0.149315</td>\n",
       "      <td>0.294278</td>\n",
       "    </tr>\n",
       "    <tr>\n",
       "      <th>serum_sodium</th>\n",
       "      <td>-0.045966</td>\n",
       "      <td>0.041882</td>\n",
       "      <td>0.059550</td>\n",
       "      <td>-0.089551</td>\n",
       "      <td>0.175902</td>\n",
       "      <td>0.037109</td>\n",
       "      <td>0.062125</td>\n",
       "      <td>-0.189095</td>\n",
       "      <td>1.000000</td>\n",
       "      <td>-0.027566</td>\n",
       "      <td>0.004813</td>\n",
       "      <td>0.087640</td>\n",
       "      <td>-0.195204</td>\n",
       "    </tr>\n",
       "    <tr>\n",
       "      <th>sex</th>\n",
       "      <td>0.065430</td>\n",
       "      <td>-0.094769</td>\n",
       "      <td>0.079791</td>\n",
       "      <td>-0.157730</td>\n",
       "      <td>-0.148386</td>\n",
       "      <td>-0.104615</td>\n",
       "      <td>-0.125120</td>\n",
       "      <td>0.006970</td>\n",
       "      <td>-0.027566</td>\n",
       "      <td>1.000000</td>\n",
       "      <td>0.445892</td>\n",
       "      <td>-0.015608</td>\n",
       "      <td>-0.004316</td>\n",
       "    </tr>\n",
       "    <tr>\n",
       "      <th>smoking</th>\n",
       "      <td>0.018668</td>\n",
       "      <td>-0.107290</td>\n",
       "      <td>0.002421</td>\n",
       "      <td>-0.147173</td>\n",
       "      <td>-0.067315</td>\n",
       "      <td>-0.055711</td>\n",
       "      <td>0.028234</td>\n",
       "      <td>-0.027414</td>\n",
       "      <td>0.004813</td>\n",
       "      <td>0.445892</td>\n",
       "      <td>1.000000</td>\n",
       "      <td>-0.022839</td>\n",
       "      <td>-0.012623</td>\n",
       "    </tr>\n",
       "    <tr>\n",
       "      <th>time</th>\n",
       "      <td>-0.224068</td>\n",
       "      <td>-0.141414</td>\n",
       "      <td>-0.009346</td>\n",
       "      <td>0.033726</td>\n",
       "      <td>0.041729</td>\n",
       "      <td>-0.196439</td>\n",
       "      <td>0.010514</td>\n",
       "      <td>-0.149315</td>\n",
       "      <td>0.087640</td>\n",
       "      <td>-0.015608</td>\n",
       "      <td>-0.022839</td>\n",
       "      <td>1.000000</td>\n",
       "      <td>-0.526964</td>\n",
       "    </tr>\n",
       "    <tr>\n",
       "      <th>DEATH_EVENT</th>\n",
       "      <td>0.253729</td>\n",
       "      <td>0.066270</td>\n",
       "      <td>0.062728</td>\n",
       "      <td>-0.001943</td>\n",
       "      <td>-0.268603</td>\n",
       "      <td>0.079351</td>\n",
       "      <td>-0.049139</td>\n",
       "      <td>0.294278</td>\n",
       "      <td>-0.195204</td>\n",
       "      <td>-0.004316</td>\n",
       "      <td>-0.012623</td>\n",
       "      <td>-0.526964</td>\n",
       "      <td>1.000000</td>\n",
       "    </tr>\n",
       "  </tbody>\n",
       "</table>\n",
       "</div>"
      ],
      "text/plain": [
       "                               age   anaemia  creatinine_phosphokinase  \\\n",
       "age                       1.000000  0.088006                 -0.081584   \n",
       "anaemia                   0.088006  1.000000                 -0.190741   \n",
       "creatinine_phosphokinase -0.081584 -0.190741                  1.000000   \n",
       "diabetes                 -0.101012 -0.012729                 -0.009639   \n",
       "ejection_fraction         0.060098  0.031557                 -0.044080   \n",
       "high_blood_pressure       0.093289  0.038182                 -0.070590   \n",
       "platelets                -0.052354 -0.043786                  0.024463   \n",
       "serum_creatinine          0.159187  0.052174                 -0.016408   \n",
       "serum_sodium             -0.045966  0.041882                  0.059550   \n",
       "sex                       0.065430 -0.094769                  0.079791   \n",
       "smoking                   0.018668 -0.107290                  0.002421   \n",
       "time                     -0.224068 -0.141414                 -0.009346   \n",
       "DEATH_EVENT               0.253729  0.066270                  0.062728   \n",
       "\n",
       "                          diabetes  ejection_fraction  high_blood_pressure  \\\n",
       "age                      -0.101012           0.060098             0.093289   \n",
       "anaemia                  -0.012729           0.031557             0.038182   \n",
       "creatinine_phosphokinase -0.009639          -0.044080            -0.070590   \n",
       "diabetes                  1.000000          -0.004850            -0.012732   \n",
       "ejection_fraction        -0.004850           1.000000             0.024445   \n",
       "high_blood_pressure      -0.012732           0.024445             1.000000   \n",
       "platelets                 0.092193           0.072177             0.049963   \n",
       "serum_creatinine         -0.046975          -0.011302            -0.004935   \n",
       "serum_sodium             -0.089551           0.175902             0.037109   \n",
       "sex                      -0.157730          -0.148386            -0.104615   \n",
       "smoking                  -0.147173          -0.067315            -0.055711   \n",
       "time                      0.033726           0.041729            -0.196439   \n",
       "DEATH_EVENT              -0.001943          -0.268603             0.079351   \n",
       "\n",
       "                          platelets  serum_creatinine  serum_sodium       sex  \\\n",
       "age                       -0.052354          0.159187     -0.045966  0.065430   \n",
       "anaemia                   -0.043786          0.052174      0.041882 -0.094769   \n",
       "creatinine_phosphokinase   0.024463         -0.016408      0.059550  0.079791   \n",
       "diabetes                   0.092193         -0.046975     -0.089551 -0.157730   \n",
       "ejection_fraction          0.072177         -0.011302      0.175902 -0.148386   \n",
       "high_blood_pressure        0.049963         -0.004935      0.037109 -0.104615   \n",
       "platelets                  1.000000         -0.041198      0.062125 -0.125120   \n",
       "serum_creatinine          -0.041198          1.000000     -0.189095  0.006970   \n",
       "serum_sodium               0.062125         -0.189095      1.000000 -0.027566   \n",
       "sex                       -0.125120          0.006970     -0.027566  1.000000   \n",
       "smoking                    0.028234         -0.027414      0.004813  0.445892   \n",
       "time                       0.010514         -0.149315      0.087640 -0.015608   \n",
       "DEATH_EVENT               -0.049139          0.294278     -0.195204 -0.004316   \n",
       "\n",
       "                           smoking      time  DEATH_EVENT  \n",
       "age                       0.018668 -0.224068     0.253729  \n",
       "anaemia                  -0.107290 -0.141414     0.066270  \n",
       "creatinine_phosphokinase  0.002421 -0.009346     0.062728  \n",
       "diabetes                 -0.147173  0.033726    -0.001943  \n",
       "ejection_fraction        -0.067315  0.041729    -0.268603  \n",
       "high_blood_pressure      -0.055711 -0.196439     0.079351  \n",
       "platelets                 0.028234  0.010514    -0.049139  \n",
       "serum_creatinine         -0.027414 -0.149315     0.294278  \n",
       "serum_sodium              0.004813  0.087640    -0.195204  \n",
       "sex                       0.445892 -0.015608    -0.004316  \n",
       "smoking                   1.000000 -0.022839    -0.012623  \n",
       "time                     -0.022839  1.000000    -0.526964  \n",
       "DEATH_EVENT              -0.012623 -0.526964     1.000000  "
      ]
     },
     "execution_count": 7,
     "metadata": {},
     "output_type": "execute_result"
    }
   ],
   "source": [
    "df.corr()"
   ]
  },
  {
   "cell_type": "markdown",
   "metadata": {},
   "source": [
    "Feature Engineering"
   ]
  },
  {
   "cell_type": "code",
   "execution_count": 8,
   "metadata": {},
   "outputs": [],
   "source": [
    "# Total CPK normal values: 10 to 120 micrograms per liter (mcg/L)\n",
    "def set_cpk(row):\n",
    "    if row[\"creatinine_phosphokinase\"] < 10:\n",
    "        return \"Low\"\n",
    "    elif row[\"creatinine_phosphokinase\"] >=10 and row[\"creatinine_phosphokinase\"] <= 120:\n",
    "        return \"Normal\"\n",
    "    else:\n",
    "        return \"High\"\n",
    "    \n",
    "df = df.assign(cpk_desc = df.apply(set_cpk, axis = 1))\n",
    "\n",
    "# EJECTION FRACTION    HEART'S PUMPING ABILITY\n",
    "# Normal               50-75 %\n",
    "# Below Normal         36-49 %\n",
    "# Low                  35% and below\n",
    "\n",
    "def set_eject_fract(row):\n",
    "    if row[\"ejection_fraction\"] <= 35:\n",
    "        return \"Low\"\n",
    "    elif row[\"ejection_fraction\"] > 35 and row[\"ejection_fraction\"] <= 49:\n",
    "        return \"Below_Normal\"\n",
    "    elif row[\"ejection_fraction\"] > 50 and row[\"ejection_fraction\"] <= 75:\n",
    "        return \"Normal\"\n",
    "    else:\n",
    "        return \"High\"\n",
    "    \n",
    "df = df.assign(ejection_fraction_desc = df.apply(set_eject_fract, axis = 1))\n",
    "\n",
    "\n",
    "\n",
    "\n",
    "#  For women, the average platelet count is between 157,000 and 371,000 per microliter of blood. \n",
    "#  For men, the average is between 135,000 and 317,000 per microliter of blood\n",
    "def set_platelets(row):    \n",
    "    if row[\"sex\"] == 0:  #females\n",
    "        if row[\"platelets\"] < 157000:\n",
    "            return \"Low\"\n",
    "        elif row[\"platelets\"] >=157000 and row[\"platelets\"] <= 371000:\n",
    "            return \"Normal\"\n",
    "        else:\n",
    "            return \"High\"\n",
    "        \n",
    "    elif row[\"sex\"] == 1:  #males\n",
    "        if row[\"platelets\"] < 135000:\n",
    "            return \"Low\"\n",
    "        if row[\"platelets\"] >= 135000 and row[\"platelets\"] <= 317000:\n",
    "            return \"Normal\"\n",
    "        else:\n",
    "            return \"High\"\n",
    "    \n",
    "df = df.assign(platelets_desc = df.apply(set_platelets, axis = 1))\n",
    "\n",
    "\n",
    "\n",
    "# The normal range for blood sodium levels is 135 to 145 milliequivalents per liter (mEq/L)\n",
    "\n",
    "def set_sodium(row):\n",
    "    if row[\"serum_sodium\"] < 135:\n",
    "        return \"Low\"\n",
    "    elif row[\"serum_sodium\"] >=135 and row[\"serum_sodium\"] <= 145:\n",
    "        return \"Normal\"\n",
    "    else:\n",
    "        return \"High\"\n",
    "df = df.assign(sodium_desc = df.apply(set_sodium, axis = 1))\n",
    "    \n",
    "    \n",
    "# Normal levels of creatinine in the blood are approximately 0.6 to 1.2 milligrams (mg) per deciliter (dL) in adult males \n",
    "# and 0.5 to 1.1 milligrams per deciliter in adult females.\n",
    "\n",
    "def set_creatinine(row):\n",
    "    if row[\"sex\"] == 0:  #females\n",
    "        if row[\"serum_creatinine\"] < 0.5:\n",
    "            return \"Low\"\n",
    "        elif row[\"serum_creatinine\"] >=0.5 and row[\"serum_creatinine\"] <= 1.1:\n",
    "            return \"Normal\"\n",
    "        else:\n",
    "            return \"High\"\n",
    "        \n",
    "    elif row[\"sex\"] == 1:  #males\n",
    "        if row[\"serum_creatinine\"] < 0.6:\n",
    "            return \"Low\"\n",
    "        if row[\"serum_creatinine\"] >=0.6 and row[\"serum_creatinine\"] <= 1.2:\n",
    "            return \"Normal\"\n",
    "        else:\n",
    "            return \"High\"\n",
    "df = df.assign(serum_creatinine_desc = df.apply(set_creatinine, axis = 1))"
   ]
  },
  {
   "cell_type": "code",
   "execution_count": 9,
   "metadata": {
    "scrolled": true
   },
   "outputs": [
    {
     "data": {
      "text/html": [
       "<div>\n",
       "<style scoped>\n",
       "    .dataframe tbody tr th:only-of-type {\n",
       "        vertical-align: middle;\n",
       "    }\n",
       "\n",
       "    .dataframe tbody tr th {\n",
       "        vertical-align: top;\n",
       "    }\n",
       "\n",
       "    .dataframe thead th {\n",
       "        text-align: right;\n",
       "    }\n",
       "</style>\n",
       "<table border=\"1\" class=\"dataframe\">\n",
       "  <thead>\n",
       "    <tr style=\"text-align: right;\">\n",
       "      <th></th>\n",
       "      <th>age</th>\n",
       "      <th>anaemia</th>\n",
       "      <th>creatinine_phosphokinase</th>\n",
       "      <th>diabetes</th>\n",
       "      <th>ejection_fraction</th>\n",
       "      <th>high_blood_pressure</th>\n",
       "      <th>platelets</th>\n",
       "      <th>serum_creatinine</th>\n",
       "      <th>serum_sodium</th>\n",
       "      <th>sex</th>\n",
       "      <th>smoking</th>\n",
       "      <th>time</th>\n",
       "      <th>DEATH_EVENT</th>\n",
       "      <th>cpk_desc</th>\n",
       "      <th>ejection_fraction_desc</th>\n",
       "      <th>platelets_desc</th>\n",
       "      <th>sodium_desc</th>\n",
       "      <th>serum_creatinine_desc</th>\n",
       "    </tr>\n",
       "  </thead>\n",
       "  <tbody>\n",
       "    <tr>\n",
       "      <th>0</th>\n",
       "      <td>75.0</td>\n",
       "      <td>0</td>\n",
       "      <td>582</td>\n",
       "      <td>0</td>\n",
       "      <td>20</td>\n",
       "      <td>1</td>\n",
       "      <td>265000.00</td>\n",
       "      <td>1.9</td>\n",
       "      <td>130</td>\n",
       "      <td>1</td>\n",
       "      <td>0</td>\n",
       "      <td>4</td>\n",
       "      <td>1</td>\n",
       "      <td>High</td>\n",
       "      <td>Low</td>\n",
       "      <td>Normal</td>\n",
       "      <td>Low</td>\n",
       "      <td>High</td>\n",
       "    </tr>\n",
       "    <tr>\n",
       "      <th>1</th>\n",
       "      <td>55.0</td>\n",
       "      <td>0</td>\n",
       "      <td>7861</td>\n",
       "      <td>0</td>\n",
       "      <td>38</td>\n",
       "      <td>0</td>\n",
       "      <td>263358.03</td>\n",
       "      <td>1.1</td>\n",
       "      <td>136</td>\n",
       "      <td>1</td>\n",
       "      <td>0</td>\n",
       "      <td>6</td>\n",
       "      <td>1</td>\n",
       "      <td>High</td>\n",
       "      <td>Below_Normal</td>\n",
       "      <td>Normal</td>\n",
       "      <td>Normal</td>\n",
       "      <td>Normal</td>\n",
       "    </tr>\n",
       "    <tr>\n",
       "      <th>2</th>\n",
       "      <td>65.0</td>\n",
       "      <td>0</td>\n",
       "      <td>146</td>\n",
       "      <td>0</td>\n",
       "      <td>20</td>\n",
       "      <td>0</td>\n",
       "      <td>162000.00</td>\n",
       "      <td>1.3</td>\n",
       "      <td>129</td>\n",
       "      <td>1</td>\n",
       "      <td>1</td>\n",
       "      <td>7</td>\n",
       "      <td>1</td>\n",
       "      <td>High</td>\n",
       "      <td>Low</td>\n",
       "      <td>Normal</td>\n",
       "      <td>Low</td>\n",
       "      <td>High</td>\n",
       "    </tr>\n",
       "    <tr>\n",
       "      <th>3</th>\n",
       "      <td>50.0</td>\n",
       "      <td>1</td>\n",
       "      <td>111</td>\n",
       "      <td>0</td>\n",
       "      <td>20</td>\n",
       "      <td>0</td>\n",
       "      <td>210000.00</td>\n",
       "      <td>1.9</td>\n",
       "      <td>137</td>\n",
       "      <td>1</td>\n",
       "      <td>0</td>\n",
       "      <td>7</td>\n",
       "      <td>1</td>\n",
       "      <td>Normal</td>\n",
       "      <td>Low</td>\n",
       "      <td>Normal</td>\n",
       "      <td>Normal</td>\n",
       "      <td>High</td>\n",
       "    </tr>\n",
       "    <tr>\n",
       "      <th>4</th>\n",
       "      <td>65.0</td>\n",
       "      <td>1</td>\n",
       "      <td>160</td>\n",
       "      <td>1</td>\n",
       "      <td>20</td>\n",
       "      <td>0</td>\n",
       "      <td>327000.00</td>\n",
       "      <td>2.7</td>\n",
       "      <td>116</td>\n",
       "      <td>0</td>\n",
       "      <td>0</td>\n",
       "      <td>8</td>\n",
       "      <td>1</td>\n",
       "      <td>High</td>\n",
       "      <td>Low</td>\n",
       "      <td>Normal</td>\n",
       "      <td>Low</td>\n",
       "      <td>High</td>\n",
       "    </tr>\n",
       "  </tbody>\n",
       "</table>\n",
       "</div>"
      ],
      "text/plain": [
       "    age  anaemia  creatinine_phosphokinase  diabetes  ejection_fraction  \\\n",
       "0  75.0        0                       582         0                 20   \n",
       "1  55.0        0                      7861         0                 38   \n",
       "2  65.0        0                       146         0                 20   \n",
       "3  50.0        1                       111         0                 20   \n",
       "4  65.0        1                       160         1                 20   \n",
       "\n",
       "   high_blood_pressure  platelets  serum_creatinine  serum_sodium  sex  \\\n",
       "0                    1  265000.00               1.9           130    1   \n",
       "1                    0  263358.03               1.1           136    1   \n",
       "2                    0  162000.00               1.3           129    1   \n",
       "3                    0  210000.00               1.9           137    1   \n",
       "4                    0  327000.00               2.7           116    0   \n",
       "\n",
       "   smoking  time  DEATH_EVENT cpk_desc ejection_fraction_desc platelets_desc  \\\n",
       "0        0     4            1     High                    Low         Normal   \n",
       "1        0     6            1     High           Below_Normal         Normal   \n",
       "2        1     7            1     High                    Low         Normal   \n",
       "3        0     7            1   Normal                    Low         Normal   \n",
       "4        0     8            1     High                    Low         Normal   \n",
       "\n",
       "  sodium_desc serum_creatinine_desc  \n",
       "0         Low                  High  \n",
       "1      Normal                Normal  \n",
       "2         Low                  High  \n",
       "3      Normal                  High  \n",
       "4         Low                  High  "
      ]
     },
     "execution_count": 9,
     "metadata": {},
     "output_type": "execute_result"
    }
   ],
   "source": [
    "df.head()"
   ]
  },
  {
   "cell_type": "code",
   "execution_count": 10,
   "metadata": {},
   "outputs": [],
   "source": [
    "df = pd.get_dummies(df, drop_first = True)"
   ]
  },
  {
   "cell_type": "code",
   "execution_count": 11,
   "metadata": {
    "scrolled": true
   },
   "outputs": [
    {
     "data": {
      "text/html": [
       "<div>\n",
       "<style scoped>\n",
       "    .dataframe tbody tr th:only-of-type {\n",
       "        vertical-align: middle;\n",
       "    }\n",
       "\n",
       "    .dataframe tbody tr th {\n",
       "        vertical-align: top;\n",
       "    }\n",
       "\n",
       "    .dataframe thead th {\n",
       "        text-align: right;\n",
       "    }\n",
       "</style>\n",
       "<table border=\"1\" class=\"dataframe\">\n",
       "  <thead>\n",
       "    <tr style=\"text-align: right;\">\n",
       "      <th></th>\n",
       "      <th>age</th>\n",
       "      <th>anaemia</th>\n",
       "      <th>creatinine_phosphokinase</th>\n",
       "      <th>diabetes</th>\n",
       "      <th>ejection_fraction</th>\n",
       "      <th>high_blood_pressure</th>\n",
       "      <th>platelets</th>\n",
       "      <th>serum_creatinine</th>\n",
       "      <th>serum_sodium</th>\n",
       "      <th>sex</th>\n",
       "      <th>smoking</th>\n",
       "      <th>time</th>\n",
       "      <th>DEATH_EVENT</th>\n",
       "      <th>cpk_desc_Normal</th>\n",
       "      <th>ejection_fraction_desc_High</th>\n",
       "      <th>ejection_fraction_desc_Low</th>\n",
       "      <th>ejection_fraction_desc_Normal</th>\n",
       "      <th>platelets_desc_Low</th>\n",
       "      <th>platelets_desc_Normal</th>\n",
       "      <th>sodium_desc_Low</th>\n",
       "      <th>sodium_desc_Normal</th>\n",
       "      <th>serum_creatinine_desc_Normal</th>\n",
       "    </tr>\n",
       "  </thead>\n",
       "  <tbody>\n",
       "    <tr>\n",
       "      <th>0</th>\n",
       "      <td>75.0</td>\n",
       "      <td>0</td>\n",
       "      <td>582</td>\n",
       "      <td>0</td>\n",
       "      <td>20</td>\n",
       "      <td>1</td>\n",
       "      <td>265000.00</td>\n",
       "      <td>1.9</td>\n",
       "      <td>130</td>\n",
       "      <td>1</td>\n",
       "      <td>0</td>\n",
       "      <td>4</td>\n",
       "      <td>1</td>\n",
       "      <td>0</td>\n",
       "      <td>0</td>\n",
       "      <td>1</td>\n",
       "      <td>0</td>\n",
       "      <td>0</td>\n",
       "      <td>1</td>\n",
       "      <td>1</td>\n",
       "      <td>0</td>\n",
       "      <td>0</td>\n",
       "    </tr>\n",
       "    <tr>\n",
       "      <th>1</th>\n",
       "      <td>55.0</td>\n",
       "      <td>0</td>\n",
       "      <td>7861</td>\n",
       "      <td>0</td>\n",
       "      <td>38</td>\n",
       "      <td>0</td>\n",
       "      <td>263358.03</td>\n",
       "      <td>1.1</td>\n",
       "      <td>136</td>\n",
       "      <td>1</td>\n",
       "      <td>0</td>\n",
       "      <td>6</td>\n",
       "      <td>1</td>\n",
       "      <td>0</td>\n",
       "      <td>0</td>\n",
       "      <td>0</td>\n",
       "      <td>0</td>\n",
       "      <td>0</td>\n",
       "      <td>1</td>\n",
       "      <td>0</td>\n",
       "      <td>1</td>\n",
       "      <td>1</td>\n",
       "    </tr>\n",
       "    <tr>\n",
       "      <th>2</th>\n",
       "      <td>65.0</td>\n",
       "      <td>0</td>\n",
       "      <td>146</td>\n",
       "      <td>0</td>\n",
       "      <td>20</td>\n",
       "      <td>0</td>\n",
       "      <td>162000.00</td>\n",
       "      <td>1.3</td>\n",
       "      <td>129</td>\n",
       "      <td>1</td>\n",
       "      <td>1</td>\n",
       "      <td>7</td>\n",
       "      <td>1</td>\n",
       "      <td>0</td>\n",
       "      <td>0</td>\n",
       "      <td>1</td>\n",
       "      <td>0</td>\n",
       "      <td>0</td>\n",
       "      <td>1</td>\n",
       "      <td>1</td>\n",
       "      <td>0</td>\n",
       "      <td>0</td>\n",
       "    </tr>\n",
       "    <tr>\n",
       "      <th>3</th>\n",
       "      <td>50.0</td>\n",
       "      <td>1</td>\n",
       "      <td>111</td>\n",
       "      <td>0</td>\n",
       "      <td>20</td>\n",
       "      <td>0</td>\n",
       "      <td>210000.00</td>\n",
       "      <td>1.9</td>\n",
       "      <td>137</td>\n",
       "      <td>1</td>\n",
       "      <td>0</td>\n",
       "      <td>7</td>\n",
       "      <td>1</td>\n",
       "      <td>1</td>\n",
       "      <td>0</td>\n",
       "      <td>1</td>\n",
       "      <td>0</td>\n",
       "      <td>0</td>\n",
       "      <td>1</td>\n",
       "      <td>0</td>\n",
       "      <td>1</td>\n",
       "      <td>0</td>\n",
       "    </tr>\n",
       "    <tr>\n",
       "      <th>4</th>\n",
       "      <td>65.0</td>\n",
       "      <td>1</td>\n",
       "      <td>160</td>\n",
       "      <td>1</td>\n",
       "      <td>20</td>\n",
       "      <td>0</td>\n",
       "      <td>327000.00</td>\n",
       "      <td>2.7</td>\n",
       "      <td>116</td>\n",
       "      <td>0</td>\n",
       "      <td>0</td>\n",
       "      <td>8</td>\n",
       "      <td>1</td>\n",
       "      <td>0</td>\n",
       "      <td>0</td>\n",
       "      <td>1</td>\n",
       "      <td>0</td>\n",
       "      <td>0</td>\n",
       "      <td>1</td>\n",
       "      <td>1</td>\n",
       "      <td>0</td>\n",
       "      <td>0</td>\n",
       "    </tr>\n",
       "  </tbody>\n",
       "</table>\n",
       "</div>"
      ],
      "text/plain": [
       "    age  anaemia  creatinine_phosphokinase  diabetes  ejection_fraction  \\\n",
       "0  75.0        0                       582         0                 20   \n",
       "1  55.0        0                      7861         0                 38   \n",
       "2  65.0        0                       146         0                 20   \n",
       "3  50.0        1                       111         0                 20   \n",
       "4  65.0        1                       160         1                 20   \n",
       "\n",
       "   high_blood_pressure  platelets  serum_creatinine  serum_sodium  sex  \\\n",
       "0                    1  265000.00               1.9           130    1   \n",
       "1                    0  263358.03               1.1           136    1   \n",
       "2                    0  162000.00               1.3           129    1   \n",
       "3                    0  210000.00               1.9           137    1   \n",
       "4                    0  327000.00               2.7           116    0   \n",
       "\n",
       "   smoking  time  DEATH_EVENT  cpk_desc_Normal  ejection_fraction_desc_High  \\\n",
       "0        0     4            1                0                            0   \n",
       "1        0     6            1                0                            0   \n",
       "2        1     7            1                0                            0   \n",
       "3        0     7            1                1                            0   \n",
       "4        0     8            1                0                            0   \n",
       "\n",
       "   ejection_fraction_desc_Low  ejection_fraction_desc_Normal  \\\n",
       "0                           1                              0   \n",
       "1                           0                              0   \n",
       "2                           1                              0   \n",
       "3                           1                              0   \n",
       "4                           1                              0   \n",
       "\n",
       "   platelets_desc_Low  platelets_desc_Normal  sodium_desc_Low  \\\n",
       "0                   0                      1                1   \n",
       "1                   0                      1                0   \n",
       "2                   0                      1                1   \n",
       "3                   0                      1                0   \n",
       "4                   0                      1                1   \n",
       "\n",
       "   sodium_desc_Normal  serum_creatinine_desc_Normal  \n",
       "0                   0                             0  \n",
       "1                   1                             1  \n",
       "2                   0                             0  \n",
       "3                   1                             0  \n",
       "4                   0                             0  "
      ]
     },
     "execution_count": 11,
     "metadata": {},
     "output_type": "execute_result"
    }
   ],
   "source": [
    "df.head()"
   ]
  },
  {
   "cell_type": "code",
   "execution_count": 12,
   "metadata": {},
   "outputs": [
    {
     "name": "stdout",
     "output_type": "stream",
     "text": [
      "<class 'pandas.core.frame.DataFrame'>\n",
      "RangeIndex: 299 entries, 0 to 298\n",
      "Data columns (total 22 columns):\n",
      " #   Column                         Non-Null Count  Dtype  \n",
      "---  ------                         --------------  -----  \n",
      " 0   age                            299 non-null    float64\n",
      " 1   anaemia                        299 non-null    int64  \n",
      " 2   creatinine_phosphokinase       299 non-null    int64  \n",
      " 3   diabetes                       299 non-null    int64  \n",
      " 4   ejection_fraction              299 non-null    int64  \n",
      " 5   high_blood_pressure            299 non-null    int64  \n",
      " 6   platelets                      299 non-null    float64\n",
      " 7   serum_creatinine               299 non-null    float64\n",
      " 8   serum_sodium                   299 non-null    int64  \n",
      " 9   sex                            299 non-null    int64  \n",
      " 10  smoking                        299 non-null    int64  \n",
      " 11  time                           299 non-null    int64  \n",
      " 12  DEATH_EVENT                    299 non-null    int64  \n",
      " 13  cpk_desc_Normal                299 non-null    uint8  \n",
      " 14  ejection_fraction_desc_High    299 non-null    uint8  \n",
      " 15  ejection_fraction_desc_Low     299 non-null    uint8  \n",
      " 16  ejection_fraction_desc_Normal  299 non-null    uint8  \n",
      " 17  platelets_desc_Low             299 non-null    uint8  \n",
      " 18  platelets_desc_Normal          299 non-null    uint8  \n",
      " 19  sodium_desc_Low                299 non-null    uint8  \n",
      " 20  sodium_desc_Normal             299 non-null    uint8  \n",
      " 21  serum_creatinine_desc_Normal   299 non-null    uint8  \n",
      "dtypes: float64(3), int64(10), uint8(9)\n",
      "memory usage: 33.1 KB\n"
     ]
    }
   ],
   "source": [
    "df.info()"
   ]
  },
  {
   "cell_type": "code",
   "execution_count": 13,
   "metadata": {
    "scrolled": false
   },
   "outputs": [],
   "source": [
    "X = df.drop(\"DEATH_EVENT\", 1)\n",
    "y = df[\"DEATH_EVENT\"]\n"
   ]
  },
  {
   "cell_type": "code",
   "execution_count": 14,
   "metadata": {},
   "outputs": [
    {
     "name": "stdout",
     "output_type": "stream",
     "text": [
      "Resampled dataset shape Counter({1: 203, 0: 203})\n"
     ]
    }
   ],
   "source": [
    "# Handling the imbalanced data by Oversampling using SMOTENC\n",
    "# SMOTE-NC is capable of handling a mix of categorical and continous features \n",
    "# as just SMOTE doesnt support categorical data and thus produce continous outputs\n",
    "\n",
    "from imblearn.over_sampling import SMOTENC\n",
    "smote = SMOTENC(categorical_features = [0,1,3,5,9,10,12,13,14,15,16,17,18,19,20], random_state=42)\n",
    "X, y = smote.fit_sample(X,y)\n",
    "\n",
    "print('Resampled dataset shape %s' % Counter(y))\n"
   ]
  },
  {
   "cell_type": "code",
   "execution_count": 15,
   "metadata": {},
   "outputs": [
    {
     "data": {
      "text/html": [
       "<div>\n",
       "<style scoped>\n",
       "    .dataframe tbody tr th:only-of-type {\n",
       "        vertical-align: middle;\n",
       "    }\n",
       "\n",
       "    .dataframe tbody tr th {\n",
       "        vertical-align: top;\n",
       "    }\n",
       "\n",
       "    .dataframe thead th {\n",
       "        text-align: right;\n",
       "    }\n",
       "</style>\n",
       "<table border=\"1\" class=\"dataframe\">\n",
       "  <thead>\n",
       "    <tr style=\"text-align: right;\">\n",
       "      <th></th>\n",
       "      <th>age</th>\n",
       "      <th>creatinine_phosphokinase</th>\n",
       "      <th>ejection_fraction</th>\n",
       "      <th>platelets</th>\n",
       "      <th>serum_creatinine</th>\n",
       "      <th>serum_sodium</th>\n",
       "      <th>time</th>\n",
       "      <th>anaemia</th>\n",
       "      <th>diabetes</th>\n",
       "      <th>high_blood_pressure</th>\n",
       "      <th>sex</th>\n",
       "      <th>smoking</th>\n",
       "      <th>cpk_desc_Normal</th>\n",
       "      <th>ejection_fraction_desc_High</th>\n",
       "      <th>ejection_fraction_desc_Low</th>\n",
       "      <th>ejection_fraction_desc_Normal</th>\n",
       "      <th>platelets_desc_Low</th>\n",
       "      <th>platelets_desc_Normal</th>\n",
       "      <th>sodium_desc_Low</th>\n",
       "      <th>sodium_desc_Normal</th>\n",
       "      <th>serum_creatinine_desc_Normal</th>\n",
       "    </tr>\n",
       "  </thead>\n",
       "  <tbody>\n",
       "    <tr>\n",
       "      <th>0</th>\n",
       "      <td>0.636364</td>\n",
       "      <td>0.071319</td>\n",
       "      <td>0.090909</td>\n",
       "      <td>0.290823</td>\n",
       "      <td>0.157303</td>\n",
       "      <td>0.485714</td>\n",
       "      <td>0.000000</td>\n",
       "      <td>0</td>\n",
       "      <td>0</td>\n",
       "      <td>1</td>\n",
       "      <td>1</td>\n",
       "      <td>0</td>\n",
       "      <td>0</td>\n",
       "      <td>0</td>\n",
       "      <td>1</td>\n",
       "      <td>0</td>\n",
       "      <td>0</td>\n",
       "      <td>1</td>\n",
       "      <td>1</td>\n",
       "      <td>0</td>\n",
       "      <td>0</td>\n",
       "    </tr>\n",
       "    <tr>\n",
       "      <th>1</th>\n",
       "      <td>0.272727</td>\n",
       "      <td>1.000000</td>\n",
       "      <td>0.363636</td>\n",
       "      <td>0.288833</td>\n",
       "      <td>0.067416</td>\n",
       "      <td>0.657143</td>\n",
       "      <td>0.007117</td>\n",
       "      <td>0</td>\n",
       "      <td>0</td>\n",
       "      <td>0</td>\n",
       "      <td>1</td>\n",
       "      <td>0</td>\n",
       "      <td>0</td>\n",
       "      <td>0</td>\n",
       "      <td>0</td>\n",
       "      <td>0</td>\n",
       "      <td>0</td>\n",
       "      <td>1</td>\n",
       "      <td>0</td>\n",
       "      <td>1</td>\n",
       "      <td>1</td>\n",
       "    </tr>\n",
       "    <tr>\n",
       "      <th>2</th>\n",
       "      <td>0.454545</td>\n",
       "      <td>0.015693</td>\n",
       "      <td>0.090909</td>\n",
       "      <td>0.165960</td>\n",
       "      <td>0.089888</td>\n",
       "      <td>0.457143</td>\n",
       "      <td>0.010676</td>\n",
       "      <td>0</td>\n",
       "      <td>0</td>\n",
       "      <td>0</td>\n",
       "      <td>1</td>\n",
       "      <td>1</td>\n",
       "      <td>0</td>\n",
       "      <td>0</td>\n",
       "      <td>1</td>\n",
       "      <td>0</td>\n",
       "      <td>0</td>\n",
       "      <td>1</td>\n",
       "      <td>1</td>\n",
       "      <td>0</td>\n",
       "      <td>0</td>\n",
       "    </tr>\n",
       "    <tr>\n",
       "      <th>3</th>\n",
       "      <td>0.181818</td>\n",
       "      <td>0.011227</td>\n",
       "      <td>0.090909</td>\n",
       "      <td>0.224148</td>\n",
       "      <td>0.157303</td>\n",
       "      <td>0.685714</td>\n",
       "      <td>0.010676</td>\n",
       "      <td>1</td>\n",
       "      <td>0</td>\n",
       "      <td>0</td>\n",
       "      <td>1</td>\n",
       "      <td>0</td>\n",
       "      <td>1</td>\n",
       "      <td>0</td>\n",
       "      <td>1</td>\n",
       "      <td>0</td>\n",
       "      <td>0</td>\n",
       "      <td>1</td>\n",
       "      <td>0</td>\n",
       "      <td>1</td>\n",
       "      <td>0</td>\n",
       "    </tr>\n",
       "    <tr>\n",
       "      <th>4</th>\n",
       "      <td>0.454545</td>\n",
       "      <td>0.017479</td>\n",
       "      <td>0.090909</td>\n",
       "      <td>0.365984</td>\n",
       "      <td>0.247191</td>\n",
       "      <td>0.085714</td>\n",
       "      <td>0.014235</td>\n",
       "      <td>1</td>\n",
       "      <td>1</td>\n",
       "      <td>0</td>\n",
       "      <td>0</td>\n",
       "      <td>0</td>\n",
       "      <td>0</td>\n",
       "      <td>0</td>\n",
       "      <td>1</td>\n",
       "      <td>0</td>\n",
       "      <td>0</td>\n",
       "      <td>1</td>\n",
       "      <td>1</td>\n",
       "      <td>0</td>\n",
       "      <td>0</td>\n",
       "    </tr>\n",
       "  </tbody>\n",
       "</table>\n",
       "</div>"
      ],
      "text/plain": [
       "        age  creatinine_phosphokinase  ejection_fraction  platelets  \\\n",
       "0  0.636364                  0.071319           0.090909   0.290823   \n",
       "1  0.272727                  1.000000           0.363636   0.288833   \n",
       "2  0.454545                  0.015693           0.090909   0.165960   \n",
       "3  0.181818                  0.011227           0.090909   0.224148   \n",
       "4  0.454545                  0.017479           0.090909   0.365984   \n",
       "\n",
       "   serum_creatinine  serum_sodium      time  anaemia  diabetes  \\\n",
       "0          0.157303      0.485714  0.000000        0         0   \n",
       "1          0.067416      0.657143  0.007117        0         0   \n",
       "2          0.089888      0.457143  0.010676        0         0   \n",
       "3          0.157303      0.685714  0.010676        1         0   \n",
       "4          0.247191      0.085714  0.014235        1         1   \n",
       "\n",
       "   high_blood_pressure  sex  smoking  cpk_desc_Normal  \\\n",
       "0                    1    1        0                0   \n",
       "1                    0    1        0                0   \n",
       "2                    0    1        1                0   \n",
       "3                    0    1        0                1   \n",
       "4                    0    0        0                0   \n",
       "\n",
       "   ejection_fraction_desc_High  ejection_fraction_desc_Low  \\\n",
       "0                            0                           1   \n",
       "1                            0                           0   \n",
       "2                            0                           1   \n",
       "3                            0                           1   \n",
       "4                            0                           1   \n",
       "\n",
       "   ejection_fraction_desc_Normal  platelets_desc_Low  platelets_desc_Normal  \\\n",
       "0                              0                   0                      1   \n",
       "1                              0                   0                      1   \n",
       "2                              0                   0                      1   \n",
       "3                              0                   0                      1   \n",
       "4                              0                   0                      1   \n",
       "\n",
       "   sodium_desc_Low  sodium_desc_Normal  serum_creatinine_desc_Normal  \n",
       "0                1                   0                             0  \n",
       "1                0                   1                             1  \n",
       "2                1                   0                             0  \n",
       "3                0                   1                             0  \n",
       "4                1                   0                             0  "
      ]
     },
     "execution_count": 15,
     "metadata": {},
     "output_type": "execute_result"
    }
   ],
   "source": [
    "from sklearn.preprocessing import MinMaxScaler\n",
    "scaler = MinMaxScaler()\n",
    "\n",
    "data = X[[\"age\", \"creatinine_phosphokinase\",\"ejection_fraction\", \"platelets\", \"serum_creatinine\",\"serum_sodium\",\"time\"]]\n",
    "data1 = X.drop(data, 1)\n",
    "\n",
    "scaled_data = pd.DataFrame(scaler.fit_transform(data), columns=data.columns)\n",
    "\n",
    "X_bal = pd.concat([scaled_data, data1], 1)\n",
    "X_bal.head()"
   ]
  },
  {
   "cell_type": "code",
   "execution_count": 16,
   "metadata": {
    "scrolled": true
   },
   "outputs": [
    {
     "name": "stdout",
     "output_type": "stream",
     "text": [
      "<class 'pandas.core.frame.DataFrame'>\n",
      "RangeIndex: 406 entries, 0 to 405\n",
      "Data columns (total 21 columns):\n",
      " #   Column                         Non-Null Count  Dtype  \n",
      "---  ------                         --------------  -----  \n",
      " 0   age                            406 non-null    float64\n",
      " 1   creatinine_phosphokinase       406 non-null    float64\n",
      " 2   ejection_fraction              406 non-null    float64\n",
      " 3   platelets                      406 non-null    float64\n",
      " 4   serum_creatinine               406 non-null    float64\n",
      " 5   serum_sodium                   406 non-null    float64\n",
      " 6   time                           406 non-null    float64\n",
      " 7   anaemia                        406 non-null    int64  \n",
      " 8   diabetes                       406 non-null    int64  \n",
      " 9   high_blood_pressure            406 non-null    int64  \n",
      " 10  sex                            406 non-null    int64  \n",
      " 11  smoking                        406 non-null    int64  \n",
      " 12  cpk_desc_Normal                406 non-null    uint8  \n",
      " 13  ejection_fraction_desc_High    406 non-null    uint8  \n",
      " 14  ejection_fraction_desc_Low     406 non-null    uint8  \n",
      " 15  ejection_fraction_desc_Normal  406 non-null    uint8  \n",
      " 16  platelets_desc_Low             406 non-null    uint8  \n",
      " 17  platelets_desc_Normal          406 non-null    uint8  \n",
      " 18  sodium_desc_Low                406 non-null    uint8  \n",
      " 19  sodium_desc_Normal             406 non-null    uint8  \n",
      " 20  serum_creatinine_desc_Normal   406 non-null    uint8  \n",
      "dtypes: float64(7), int64(5), uint8(9)\n",
      "memory usage: 41.8 KB\n"
     ]
    }
   ],
   "source": [
    "X_bal.info()"
   ]
  },
  {
   "cell_type": "code",
   "execution_count": 17,
   "metadata": {
    "scrolled": true
   },
   "outputs": [
    {
     "name": "stdout",
     "output_type": "stream",
     "text": [
      "(406, 21)\n"
     ]
    },
    {
     "data": {
      "text/plain": [
       "(299, 22)"
      ]
     },
     "execution_count": 17,
     "metadata": {},
     "output_type": "execute_result"
    }
   ],
   "source": [
    "print(X_bal.shape)\n",
    "df.shape"
   ]
  },
  {
   "cell_type": "code",
   "execution_count": 18,
   "metadata": {},
   "outputs": [
    {
     "data": {
      "text/plain": [
       "1    203\n",
       "0    203\n",
       "Name: DEATH_EVENT, dtype: int64"
      ]
     },
     "execution_count": 18,
     "metadata": {},
     "output_type": "execute_result"
    }
   ],
   "source": [
    "y.value_counts()"
   ]
  },
  {
   "cell_type": "code",
   "execution_count": 19,
   "metadata": {},
   "outputs": [],
   "source": [
    "from sklearn.model_selection import train_test_split\n",
    "\n",
    "X_train, X_test, y_train, y_test = train_test_split(X_bal, y, test_size=0.3, random_state=42, stratify = y)"
   ]
  },
  {
   "cell_type": "markdown",
   "metadata": {},
   "source": [
    "Stratify property in train test split This stratify parameter makes a split so that the proportion of values in the sample produced will be the same as the proportion of values provided to parameter stratify. It's good practice to stratify your sample by the target variable. This will ensure your training set looks similar to your test set, making your evaluation metrics more reliable."
   ]
  },
  {
   "cell_type": "code",
   "execution_count": 20,
   "metadata": {},
   "outputs": [],
   "source": [
    "# importing logistic regression\n",
    "\n",
    "from sklearn.linear_model import LogisticRegression\n",
    "lr = LogisticRegression()\n",
    "lr.fit(X_train, y_train)\n",
    "lr_pred = lr.predict(X_test)"
   ]
  },
  {
   "cell_type": "code",
   "execution_count": 21,
   "metadata": {},
   "outputs": [
    {
     "name": "stdout",
     "output_type": "stream",
     "text": [
      "              precision    recall  f1-score   support\n",
      "\n",
      "           0       0.79      0.87      0.83        61\n",
      "           1       0.85      0.77      0.81        61\n",
      "\n",
      "    accuracy                           0.82       122\n",
      "   macro avg       0.82      0.82      0.82       122\n",
      "weighted avg       0.82      0.82      0.82       122\n",
      "\n",
      "[[53  8]\n",
      " [14 47]]\n"
     ]
    }
   ],
   "source": [
    "print(classification_report(y_test, lr_pred))\n",
    "print(confusion_matrix(y_test, lr_pred))"
   ]
  },
  {
   "cell_type": "code",
   "execution_count": 22,
   "metadata": {},
   "outputs": [
    {
     "name": "stdout",
     "output_type": "stream",
     "text": [
      "              precision    recall  f1-score   support\n",
      "\n",
      "           0       0.87      0.87      0.87        61\n",
      "           1       0.87      0.87      0.87        61\n",
      "\n",
      "    accuracy                           0.87       122\n",
      "   macro avg       0.87      0.87      0.87       122\n",
      "weighted avg       0.87      0.87      0.87       122\n",
      "\n",
      "[[53  8]\n",
      " [ 8 53]]\n"
     ]
    }
   ],
   "source": [
    "#importing extra tree classifier and then initializing it\n",
    "\n",
    "from sklearn.ensemble import ExtraTreesClassifier\n",
    "tree = ExtraTreesClassifier(n_jobs=4, random_state = 1)\n",
    "tree.fit(X_train, y_train)\n",
    "tree_pred = tree.predict(X_test)\n",
    "\n",
    "\n",
    "print(classification_report(y_test, tree_pred))\n",
    "print(confusion_matrix(y_test, tree_pred))"
   ]
  },
  {
   "cell_type": "code",
   "execution_count": null,
   "metadata": {},
   "outputs": [],
   "source": []
  },
  {
   "cell_type": "code",
   "execution_count": 23,
   "metadata": {
    "scrolled": true
   },
   "outputs": [
    {
     "name": "stdout",
     "output_type": "stream",
     "text": [
      "              precision    recall  f1-score   support\n",
      "\n",
      "           0       0.92      0.95      0.94        61\n",
      "           1       0.95      0.92      0.93        61\n",
      "\n",
      "    accuracy                           0.93       122\n",
      "   macro avg       0.93      0.93      0.93       122\n",
      "weighted avg       0.93      0.93      0.93       122\n",
      "\n",
      "[[58  3]\n",
      " [ 5 56]]\n"
     ]
    }
   ],
   "source": [
    "# importing lightgbm Classifier\n",
    "from lightgbm import LGBMClassifier\n",
    "lgbm = LGBMClassifier(random_state=42)\n",
    "lgbm.fit(X_train, y_train)\n",
    "lgbm_pred = lgbm.predict(X_test)\n",
    "\n",
    "print(classification_report(y_test, lgbm_pred))\n",
    "print(confusion_matrix(y_test, lgbm_pred))"
   ]
  },
  {
   "cell_type": "code",
   "execution_count": 24,
   "metadata": {},
   "outputs": [],
   "source": [
    "from sklearn.model_selection import RandomizedSearchCV, GridSearchCV"
   ]
  },
  {
   "cell_type": "code",
   "execution_count": 25,
   "metadata": {},
   "outputs": [
    {
     "data": {
      "text/plain": [
       "({'boosting_type': 'dart',\n",
       "  'iterations': 570,\n",
       "  'learning_rate': 0.6749470055094349,\n",
       "  'max_depth': 97,\n",
       "  'metric': 'mae',\n",
       "  'min_data': 72,\n",
       "  'num_leaves': 204,\n",
       "  'objective': 'regression',\n",
       "  'sub_feature': 0.22409556730779623},\n",
       " 0.8276315789473685)"
      ]
     },
     "execution_count": 25,
     "metadata": {},
     "output_type": "execute_result"
    }
   ],
   "source": [
    "# Tuning the parameters of Lightgbm\n",
    "\n",
    "params = {} \n",
    "params['learning_rate'] = [np.random.uniform(0, 1)]\n",
    "params['boosting_type'] = [np.random.choice(['gbdt', 'dart', 'goss'])]\n",
    "params['objective'] = ['regression']\n",
    "params['metric'] = ['mae']\n",
    "params['sub_feature'] = [np.random.uniform(0, 1)]\n",
    "params['num_leaves'] = [np.random.randint(20, 300)]\n",
    "params['min_data'] = [np.random.randint(10, 100)]\n",
    "params['max_depth'] = [np.random.randint(5, 200)]\n",
    "params['iterations'] = [np.random.randint(10, 10000)]\n",
    "\n",
    "search = GridSearchCV(estimator = lgbm, param_grid = params)\n",
    "\n",
    "\n",
    "search.fit(X_train,y_train)\n",
    "search.best_params_, search.best_score_"
   ]
  },
  {
   "cell_type": "code",
   "execution_count": 26,
   "metadata": {},
   "outputs": [
    {
     "name": "stdout",
     "output_type": "stream",
     "text": [
      "              precision    recall  f1-score   support\n",
      "\n",
      "           0       0.92      0.92      0.92        61\n",
      "           1       0.92      0.92      0.92        61\n",
      "\n",
      "    accuracy                           0.92       122\n",
      "   macro avg       0.92      0.92      0.92       122\n",
      "weighted avg       0.92      0.92      0.92       122\n",
      "\n",
      "[[56  5]\n",
      " [ 5 56]]\n"
     ]
    }
   ],
   "source": [
    "#  applying the tuned parameters to lightgbm to check if the model will perform better\n",
    "\n",
    "lgbm1 = LGBMClassifier(boosting_type = 'dart',\n",
    "  iterations = 570,\n",
    "  learning_rate =  0.6749470055094349,\n",
    "  max_depth = 97,\n",
    "  metric = 'mae',\n",
    "  min_data = 72,\n",
    "  num_leaves = 204,\n",
    "  objective = 'regression',\n",
    "  sub_feature = 0.22409556730779623, random_state=1)\n",
    "\n",
    "lgbm1.fit(X_train, y_train)\n",
    "lgbm1_pred = lgbm1.predict(X_test)\n",
    "\n",
    "\n",
    "print(classification_report(y_test, lgbm1_pred))\n",
    "print(confusion_matrix(y_test, lgbm1_pred))"
   ]
  },
  {
   "cell_type": "markdown",
   "metadata": {},
   "source": [
    "#### LGBMClassifier did not perform well with hyperparameter tuning"
   ]
  },
  {
   "cell_type": "code",
   "execution_count": 27,
   "metadata": {
    "scrolled": true
   },
   "outputs": [
    {
     "name": "stdout",
     "output_type": "stream",
     "text": [
      "              precision    recall  f1-score   support\n",
      "\n",
      "           0       0.90      0.90      0.90        61\n",
      "           1       0.90      0.90      0.90        61\n",
      "\n",
      "    accuracy                           0.90       122\n",
      "   macro avg       0.90      0.90      0.90       122\n",
      "weighted avg       0.90      0.90      0.90       122\n",
      "\n",
      "[[55  6]\n",
      " [ 6 55]]\n"
     ]
    }
   ],
   "source": [
    "# importing xgboost\n",
    "from xgboost import XGBClassifier\n",
    "xgb = XGBClassifier(random_state=1)\n",
    "xgb.fit(X_train, y_train)\n",
    "xgb_pred = xgb.predict(X_test)\n",
    "\n",
    "\n",
    "print(classification_report(y_test, xgb_pred))\n",
    "print(confusion_matrix(y_test, xgb_pred))"
   ]
  },
  {
   "cell_type": "code",
   "execution_count": 28,
   "metadata": {
    "scrolled": true
   },
   "outputs": [
    {
     "data": {
      "text/plain": [
       "({'colsample_bytree': 0.9,\n",
       "  'gamma': 0.1,\n",
       "  'learning_rate': 0.1,\n",
       "  'max_depth': 4,\n",
       "  'min_child_weight': 4,\n",
       "  'reg_alpha': 0,\n",
       "  'subsample': 0.7},\n",
       " 0.924929627023223)"
      ]
     },
     "execution_count": 28,
     "metadata": {},
     "output_type": "execute_result"
    }
   ],
   "source": [
    "# Tuning the parameters of XGBOOST\n",
    "# USing GridSearch\n",
    "\n",
    "param_test3 = {\n",
    "    'learning_rate':[0.1,0.001, 0.01, 1,2],\n",
    " 'gamma':[i/10.0 for i in range(0,5)],\n",
    "    'max_depth':[4,5,6],\n",
    " 'min_child_weight':[4,5,6, 8, 10,12],\n",
    "    'subsample':[i/10.0 for i in range(6,10)],\n",
    " 'colsample_bytree':[i/10.0 for i in range(6,10)],\n",
    "    'reg_alpha':[0, 0.001, 0.005, 0.01, 0.05]\n",
    "\n",
    "}\n",
    "gsearch = GridSearchCV(estimator = XGBClassifier(n_estimators=140, objective= 'binary:logistic', nthread=4, \n",
    "                                                 scale_pos_weight=1,seed=27), \n",
    "                        param_grid = param_test3, scoring='roc_auc',n_jobs=4,iid=False, cv=5)\n",
    "\n",
    "gsearch.fit(X_train,y_train)\n",
    "gsearch.best_params_, gsearch.best_score_\n",
    "\n"
   ]
  },
  {
   "cell_type": "code",
   "execution_count": 29,
   "metadata": {},
   "outputs": [
    {
     "name": "stdout",
     "output_type": "stream",
     "text": [
      "              precision    recall  f1-score   support\n",
      "\n",
      "           0       0.95      0.90      0.92        61\n",
      "           1       0.91      0.95      0.93        61\n",
      "\n",
      "    accuracy                           0.93       122\n",
      "   macro avg       0.93      0.93      0.93       122\n",
      "weighted avg       0.93      0.93      0.93       122\n",
      "\n",
      "[[55  6]\n",
      " [ 3 58]]\n"
     ]
    }
   ],
   "source": [
    "xgb1 = XGBClassifier(learning_rate =0.1, n_estimators=1000, max_depth=4, min_child_weight=4, gamma=0.1,\n",
    "                     subsample=0.7, colsample_bytree=0.9, objective= 'binary:logistic', \n",
    "                     nthread=4, scale_pos_weight=1, seed=27, reg_alpha = 0,)\n",
    "\n",
    "\n",
    "xgb1.fit(X_train, y_train)\n",
    "xgb1_pred = xgb1.predict(X_test)\n",
    "\n",
    "\n",
    "print(classification_report(y_test, xgb1_pred))\n",
    "print(confusion_matrix(y_test, xgb1_pred))"
   ]
  },
  {
   "cell_type": "markdown",
   "metadata": {},
   "source": [
    "#### Hyperparameter tuning did not improve the model"
   ]
  },
  {
   "cell_type": "code",
   "execution_count": null,
   "metadata": {},
   "outputs": [],
   "source": []
  },
  {
   "cell_type": "code",
   "execution_count": 30,
   "metadata": {},
   "outputs": [
    {
     "name": "stdout",
     "output_type": "stream",
     "text": [
      "              precision    recall  f1-score   support\n",
      "\n",
      "           0       0.91      0.84      0.87        61\n",
      "           1       0.85      0.92      0.88        61\n",
      "\n",
      "    accuracy                           0.88       122\n",
      "   macro avg       0.88      0.88      0.88       122\n",
      "weighted avg       0.88      0.88      0.88       122\n",
      "\n",
      "[[51 10]\n",
      " [ 5 56]]\n"
     ]
    }
   ],
   "source": [
    "#importing RandomForestClassifier\n",
    "\n",
    "from sklearn.ensemble import RandomForestClassifier\n",
    "rf = RandomForestClassifier(random_state = 1)\n",
    "rf.fit(X_train, y_train)\n",
    "rf_pred = rf.predict(X_test)\n",
    "\n",
    "\n",
    "print(classification_report(y_test, rf_pred))\n",
    "print(confusion_matrix(y_test, rf_pred))"
   ]
  },
  {
   "cell_type": "code",
   "execution_count": 31,
   "metadata": {},
   "outputs": [
    {
     "name": "stdout",
     "output_type": "stream",
     "text": [
      "{'n_estimators': [200, 400, 600, 800, 1000, 1200, 1400, 1600, 1800, 2000], 'max_features': ['auto', 'sqrt'], 'max_depth': [10, 20, 30, 40, 50, 60, 70, 80, 90, 100, 110, None], 'min_samples_split': [2, 5, 10], 'min_samples_leaf': [1, 2, 4], 'bootstrap': [True, False]}\n"
     ]
    }
   ],
   "source": [
    "# Tuning the parameters of RandomForest\n",
    "# Using RandomizedSearch\n",
    "\n",
    "\n",
    "n_estimators = [int(x) for x in np.linspace(start = 200, stop = 2000, num = 10)]\n",
    "max_features = ['auto', 'sqrt']\n",
    "max_depth = [int(x) for x in np.linspace(10, 110, num = 11)]\n",
    "max_depth.append(None)\n",
    "min_samples_split = [2, 5, 10]\n",
    "min_samples_leaf = [1, 2, 4]\n",
    "bootstrap = [True, False]\n",
    "\n",
    "# Create the random grid\n",
    "random_grid = {'n_estimators': n_estimators,\n",
    "               'max_features': max_features,\n",
    "               'max_depth': max_depth,\n",
    "               'min_samples_split': min_samples_split,\n",
    "               'min_samples_leaf': min_samples_leaf,\n",
    "               'bootstrap': bootstrap}\n",
    "\n",
    "print(random_grid)"
   ]
  },
  {
   "cell_type": "code",
   "execution_count": 32,
   "metadata": {},
   "outputs": [
    {
     "name": "stdout",
     "output_type": "stream",
     "text": [
      "Fitting 3 folds for each of 100 candidates, totalling 300 fits\n"
     ]
    },
    {
     "name": "stderr",
     "output_type": "stream",
     "text": [
      "[Parallel(n_jobs=-1)]: Using backend LokyBackend with 4 concurrent workers.\n",
      "[Parallel(n_jobs=-1)]: Done  33 tasks      | elapsed:   19.3s\n",
      "[Parallel(n_jobs=-1)]: Done 154 tasks      | elapsed:  1.4min\n",
      "[Parallel(n_jobs=-1)]: Done 300 out of 300 | elapsed:  2.8min finished\n"
     ]
    },
    {
     "data": {
      "text/plain": [
       "RandomizedSearchCV(cv=3, estimator=RandomForestClassifier(random_state=1),\n",
       "                   n_iter=100, n_jobs=-1,\n",
       "                   param_distributions={'bootstrap': [True, False],\n",
       "                                        'max_depth': [10, 20, 30, 40, 50, 60,\n",
       "                                                      70, 80, 90, 100, 110,\n",
       "                                                      None],\n",
       "                                        'max_features': ['auto', 'sqrt'],\n",
       "                                        'min_samples_leaf': [1, 2, 4],\n",
       "                                        'min_samples_split': [2, 5, 10],\n",
       "                                        'n_estimators': [200, 400, 600, 800,\n",
       "                                                         1000, 1200, 1400, 1600,\n",
       "                                                         1800, 2000]},\n",
       "                   random_state=42, verbose=2)"
      ]
     },
     "execution_count": 32,
     "metadata": {},
     "output_type": "execute_result"
    }
   ],
   "source": [
    "# Random search of parameters, using 3 fold cross validation, \n",
    "# search across 100 different combinations, and use all available cores\n",
    "\n",
    "rf_random = RandomizedSearchCV(estimator = rf, param_distributions = random_grid, \n",
    "                               n_iter = 100, cv = 3, verbose=2, random_state=42, n_jobs = -1)\n",
    "\n",
    "# Fit the random search model\n",
    "rf_random.fit(X_train, y_train)"
   ]
  },
  {
   "cell_type": "code",
   "execution_count": 33,
   "metadata": {
    "scrolled": true
   },
   "outputs": [
    {
     "data": {
      "text/plain": [
       "{'n_estimators': 600,\n",
       " 'min_samples_split': 5,\n",
       " 'min_samples_leaf': 1,\n",
       " 'max_features': 'sqrt',\n",
       " 'max_depth': 60,\n",
       " 'bootstrap': False}"
      ]
     },
     "execution_count": 33,
     "metadata": {},
     "output_type": "execute_result"
    }
   ],
   "source": [
    "rf_random.best_params_"
   ]
  },
  {
   "cell_type": "code",
   "execution_count": 34,
   "metadata": {},
   "outputs": [
    {
     "name": "stdout",
     "output_type": "stream",
     "text": [
      "              precision    recall  f1-score   support\n",
      "\n",
      "           0       0.95      0.85      0.90        61\n",
      "           1       0.87      0.95      0.91        61\n",
      "\n",
      "    accuracy                           0.90       122\n",
      "   macro avg       0.91      0.90      0.90       122\n",
      "weighted avg       0.91      0.90      0.90       122\n",
      "\n",
      "[[52  9]\n",
      " [ 3 58]]\n"
     ]
    }
   ],
   "source": [
    "# Using the new value for alpha\n",
    "rf_hype=RandomForestClassifier( n_estimators = 600,\n",
    "    max_depth=60,\n",
    "    min_samples_split=5,\n",
    "    min_samples_leaf=1,\n",
    "    max_features='sqrt',\n",
    "    bootstrap=False,\n",
    " )\n",
    "\n",
    "rf_hype.fit(X_train, y_train)\n",
    "rf1_pred=rf_hype.predict(X_test)\n",
    "\n",
    "print(classification_report(y_test, rf1_pred))\n",
    "print(confusion_matrix(y_test, rf1_pred))"
   ]
  },
  {
   "cell_type": "markdown",
   "metadata": {},
   "source": [
    "We had a better result by tuning the parameters"
   ]
  },
  {
   "cell_type": "code",
   "execution_count": 37,
   "metadata": {},
   "outputs": [
    {
     "name": "stdout",
     "output_type": "stream",
     "text": [
      "0:\tlearn: 0.6860935\ttotal: 4.04ms\tremaining: 4.03s\n",
      "100:\tlearn: 0.3611619\ttotal: 145ms\tremaining: 1.29s\n",
      "200:\tlearn: 0.2736041\ttotal: 273ms\tremaining: 1.08s\n",
      "300:\tlearn: 0.2268622\ttotal: 387ms\tremaining: 898ms\n",
      "400:\tlearn: 0.1949388\ttotal: 505ms\tremaining: 755ms\n",
      "500:\tlearn: 0.1666399\ttotal: 635ms\tremaining: 633ms\n",
      "600:\tlearn: 0.1408897\ttotal: 763ms\tremaining: 506ms\n",
      "700:\tlearn: 0.1186111\ttotal: 918ms\tremaining: 392ms\n",
      "800:\tlearn: 0.1002639\ttotal: 1.04s\tremaining: 259ms\n",
      "900:\tlearn: 0.0845223\ttotal: 1.16s\tremaining: 128ms\n",
      "999:\tlearn: 0.0732502\ttotal: 1.28s\tremaining: 0us\n"
     ]
    }
   ],
   "source": [
    "# Tuning the Parameters of CatBoost\n",
    "\n",
    "from catboost import CatBoostClassifier\n",
    "cat1_hype = CatBoostClassifier(depth = 4, iterations = 1000, learning_rate = 0.01, random_state=1,\n",
    "                               verbose = 100)\n",
    "cat1_hype.fit(X_train, y_train)\n",
    "cat1_pred = cat1_hype.predict(X_test)\n",
    "\n"
   ]
  },
  {
   "cell_type": "code",
   "execution_count": 38,
   "metadata": {},
   "outputs": [
    {
     "name": "stdout",
     "output_type": "stream",
     "text": [
      "              precision    recall  f1-score   support\n",
      "\n",
      "           0       0.93      0.90      0.92        61\n",
      "           1       0.90      0.93      0.92        61\n",
      "\n",
      "    accuracy                           0.92       122\n",
      "   macro avg       0.92      0.92      0.92       122\n",
      "weighted avg       0.92      0.92      0.92       122\n",
      "\n",
      "[[55  6]\n",
      " [ 4 57]]\n"
     ]
    }
   ],
   "source": [
    "\n",
    "print(classification_report(y_test, cat1_pred))\n",
    "print(confusion_matrix(y_test, cat1_pred))"
   ]
  },
  {
   "cell_type": "code",
   "execution_count": null,
   "metadata": {},
   "outputs": [],
   "source": []
  },
  {
   "cell_type": "code",
   "execution_count": 39,
   "metadata": {},
   "outputs": [],
   "source": [
    "models = ['Logistic Regression' ,'ExtraTree Regression', 'LightgbmClassifier', 'Hyped_Light Classifier',\n",
    "       'XGB Classifier', 'Hyped_XGB Classifier', 'Random Forest Classifier', 'Hyped_Random Forest Classifier', \n",
    "        'Hyped_CatBoost Classifier']\n",
    "predictions = [lr_pred, tree_pred, lgbm_pred, lgbm1_pred, xgb_pred, xgb1_pred, rf_pred, rf1_pred, cat1_pred]\n"
   ]
  },
  {
   "cell_type": "code",
   "execution_count": 40,
   "metadata": {},
   "outputs": [
    {
     "name": "stdout",
     "output_type": "stream",
     "text": [
      "The recall score for Logistic Regression is 0.7704918032786885\n",
      "The recall score for ExtraTree Regression is 0.8688524590163934\n",
      "The recall score for LightgbmClassifier is 0.9180327868852459\n",
      "The recall score for Hyped_Light Classifier is 0.9180327868852459\n",
      "The recall score for XGB Classifier is 0.9016393442622951\n",
      "The recall score for Hyped_XGB Classifier is 0.9508196721311475\n",
      "The recall score for Random Forest Classifier is 0.9180327868852459\n",
      "The recall score for Hyped_Random Forest Classifier is 0.9508196721311475\n",
      "The recall score for Hyped_CatBoost Classifier is 0.9344262295081968\n"
     ]
    }
   ],
   "source": [
    "# To get the recall score for each model\n",
    "\n",
    "from sklearn.metrics import recall_score, accuracy_score\n",
    "\n",
    "for (i,j) in zip(predictions, models):\n",
    "        model_recall = recall_score(y_test, i)\n",
    "        print(\"The recall score for {} is {}\".format(j, model_recall))\n",
    "    "
   ]
  },
  {
   "cell_type": "markdown",
   "metadata": {},
   "source": [
    "#### from this, we can see that both Hyped_XGB Classifier Hyped_Random Forest Classifier and gave us the highest recall score of 0.95."
   ]
  },
  {
   "cell_type": "code",
   "execution_count": 41,
   "metadata": {},
   "outputs": [],
   "source": [
    "\n",
    "lr_acc = accuracy_score(y_test, lr_pred)\n",
    "tree_acc = accuracy_score(y_test, tree_pred)\n",
    "lgbm_acc = accuracy_score(y_test, lgbm_pred)\n",
    "lgbm1_acc = accuracy_score(y_test, lgbm1_pred)\n",
    "xgb_acc = accuracy_score(y_test, xgb_pred)\n",
    "xgb1_acc = accuracy_score(y_test, xgb1_pred)\n",
    "rf_acc = accuracy_score(y_test, rf_pred)\n",
    "rf1_acc = accuracy_score(y_test, rf1_pred)\n",
    "cat1_acc = accuracy_score(y_test, cat1_pred)\n",
    "\n",
    "lr_recall = recall_score(y_test, lr_pred)\n",
    "tree_recall = recall_score(y_test, tree_pred)\n",
    "lgbm_recall = recall_score(y_test, lgbm_pred)\n",
    "lgbm1_recall = recall_score(y_test, lgbm1_pred)\n",
    "xgb_recall = recall_score(y_test, xgb_pred)\n",
    "xgb1_recall = recall_score(y_test, xgb1_pred)\n",
    "rf_recall = recall_score(y_test, rf_pred)\n",
    "rf1_recall = recall_score(y_test, rf1_pred)\n",
    "cat1_recall = recall_score(y_test, cat1_pred)\n"
   ]
  },
  {
   "cell_type": "code",
   "execution_count": 42,
   "metadata": {},
   "outputs": [],
   "source": [
    "recalls = [lr_recall, tree_recall, lgbm_recall, lgbm1_recall, xgb_recall, xgb1_recall, rf_recall, rf1_recall, cat1_recall]\n",
    "\n",
    "rec = []\n",
    "for i in recalls:\n",
    "    r = round(i, 2)\n",
    "    rec.append(r)"
   ]
  },
  {
   "cell_type": "code",
   "execution_count": 43,
   "metadata": {},
   "outputs": [
    {
     "data": {
      "text/plain": [
       "[0.77, 0.87, 0.92, 0.92, 0.9, 0.95, 0.92, 0.95, 0.93]"
      ]
     },
     "execution_count": 43,
     "metadata": {},
     "output_type": "execute_result"
    }
   ],
   "source": [
    "rec"
   ]
  },
  {
   "cell_type": "code",
   "execution_count": 44,
   "metadata": {},
   "outputs": [
    {
     "data": {
      "text/plain": [
       "<matplotlib.axes._subplots.AxesSubplot at 0x2c1f74387b8>"
      ]
     },
     "execution_count": 44,
     "metadata": {},
     "output_type": "execute_result"
    },
    {
     "data": {
      "image/png": "[encoded data removed]",
      "text/plain": [
       "<Figure size 864x576 with 1 Axes>"
      ]
     },
     "metadata": {
      "needs_background": "light"
     },
     "output_type": "display_data"
    }
   ],
   "source": [
    "#ploting a barchart to show the recall_score scores of each model  \n",
    "y_axis=['Logistic Regression' ,'ExtraTree Classifier', 'Lightgbm Classifier', 'Hyped_Light Classifier',\n",
    "       'XGB Classifier', 'Hyped_XGB Classifier', 'Random Forest Classifier', 'Hyped_Random Forest Classifier', \n",
    "     'Hyped_CatBoost Classifier']\n",
    "\n",
    "df1 = pd.DataFrame({\"Labels\" : y_axis, \"Recall\" : rec})\n",
    "df1  = df1.sort_values(by = \"Recall\")\n",
    "\n",
    "plt.figure(figsize = (12,8))\n",
    "sns.barplot(x = \"Recall\", y = \"Labels\",data = df1, linewidth=1.5)"
   ]
  },
  {
   "cell_type": "code",
   "execution_count": 45,
   "metadata": {
    "scrolled": true
   },
   "outputs": [
    {
     "name": "stdout",
     "output_type": "stream",
     "text": [
      "The accuracy score for Logistic Regression is 0.819672131147541\n",
      "The accuracy score for ExtraTree Regression is 0.8688524590163934\n",
      "The accuracy score for LightgbmClassifier is 0.9344262295081968\n",
      "The accuracy score for Hyped_Light Classifier is 0.9180327868852459\n",
      "The accuracy score for XGB Classifier is 0.9016393442622951\n",
      "The accuracy score for Hyped_XGB Classifier is 0.9262295081967213\n",
      "The accuracy score for Random Forest Classifier is 0.8770491803278688\n",
      "The accuracy score for Hyped_Random Forest Classifier is 0.9016393442622951\n",
      "The accuracy score for Hyped_CatBoost Classifier is 0.9180327868852459\n"
     ]
    }
   ],
   "source": [
    "# to get the accuracy score of each model\n",
    "\n",
    "from sklearn.metrics import accuracy_score\n",
    "\n",
    "for (i,j) in zip(predictions, models):\n",
    "        model_recall = accuracy_score(y_test, i)\n",
    "        print(\"The accuracy score for {} is {}\".format(j, model_recall))\n"
   ]
  },
  {
   "cell_type": "markdown",
   "metadata": {},
   "source": [
    "#### Hyped_XGB Classifier and LightgbmClassifier gave us the highest accuracy of 0.93"
   ]
  },
  {
   "cell_type": "code",
   "execution_count": 46,
   "metadata": {},
   "outputs": [],
   "source": [
    "accuracy = [lr_acc, tree_acc, lgbm_acc,lgbm1_acc, xgb_acc, xgb1_acc, rf_acc, rf1_acc,  cat1_acc]"
   ]
  },
  {
   "cell_type": "code",
   "execution_count": 47,
   "metadata": {},
   "outputs": [],
   "source": [
    "acc = []\n",
    "for i in accuracy:\n",
    "    r = round(i, 3)\n",
    "    acc.append(r)"
   ]
  },
  {
   "cell_type": "code",
   "execution_count": 48,
   "metadata": {},
   "outputs": [
    {
     "data": {
      "text/plain": [
       "[0.82, 0.869, 0.934, 0.918, 0.902, 0.926, 0.877, 0.902, 0.918]"
      ]
     },
     "execution_count": 48,
     "metadata": {},
     "output_type": "execute_result"
    }
   ],
   "source": [
    "acc"
   ]
  },
  {
   "cell_type": "code",
   "execution_count": 49,
   "metadata": {
    "scrolled": false
   },
   "outputs": [
    {
     "data": {
      "text/plain": [
       "<matplotlib.axes._subplots.AxesSubplot at 0x2c1f3a16358>"
      ]
     },
     "execution_count": 49,
     "metadata": {},
     "output_type": "execute_result"
    },
    {
     "data": {
      "image/png": "[encoded data removed]",
      "text/plain": [
       "<Figure size 864x576 with 1 Axes>"
      ]
     },
     "metadata": {
      "needs_background": "light"
     },
     "output_type": "display_data"
    }
   ],
   "source": [
    "#ploting a barchart to show the rmse scores of each model  \n",
    "\n",
    "y_axis=['Logistic Regression' ,'ExtraTree Classifier', 'Lightgbm Classifier', 'Hyped_Light Classifier',\n",
    "       'XGB Classifier', 'Hyped_XGB Classifier', 'Random Forest Classifier',\n",
    "        'Hyped_Random Forest Classifier', 'Hyped_CatBoost Classifier']\n",
    "\n",
    "df2 = pd.DataFrame({\"Labels\" : y_axis, \"Accuracy\" : acc})\n",
    "df2  = df2.sort_values(by = \"Accuracy\")\n",
    "\n",
    "plt.figure(figsize = (12,8))\n",
    "sns.barplot(x = \"Accuracy\", y = \"Labels\",data = df2, linewidth=1.5)\n",
    "\n"
   ]
  },
  {
   "cell_type": "code",
   "execution_count": null,
   "metadata": {},
   "outputs": [],
   "source": []
  },
  {
   "cell_type": "code",
   "execution_count": null,
   "metadata": {},
   "outputs": [],
   "source": []
  }
 ],
 "metadata": {
  "kernelspec": {
   "display_name": "Python 3",
   "language": "python",
   "name": "python3"
  },
  "language_info": {
   "codemirror_mode": {
    "name": "ipython",
    "version": 3
   },
   "file_extension": ".py",
   "mimetype": "text/x-python",
   "name": "python",
   "nbconvert_exporter": "python",
   "pygments_lexer": "ipython3",
   "version": "3.7.3"
  }
 },
 "nbformat": 4,
 "nbformat_minor": 2
}
